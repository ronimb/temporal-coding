{
 "cells": [
  {
   "cell_type": "code",
   "execution_count": 5,
   "metadata": {},
   "outputs": [
    {
     "name": "stderr",
     "output_type": "stream",
     "text": [
      "C:\\ProgramData\\Anaconda3\\envs\\temporal_coding\\lib\\site-packages\\brian2\\core\\variables.py:174: FutureWarning: Conversion of the second argument of issubdtype from `float` to `np.floating` is deprecated. In future, it will be treated as `np.float64 == np.dtype(float).type`.\n",
      "  return np.issubdtype(np.bool, self.dtype)\n"
     ]
    }
   ],
   "source": [
    "import numpy as np\n",
    "\n",
    "import pickle\n",
    "import time\n",
    "import datetime\n",
    "\n",
    "from make_test_samples import *\n",
    "\n",
    "import matplotlib.pyplot as plt\n",
    "import seaborn as sns; sns.set()\n"
   ]
  },
  {
   "cell_type": "markdown",
   "metadata": {},
   "source": [
    "# Data generation"
   ]
  },
  {
   "cell_type": "code",
   "execution_count": 64,
   "metadata": {},
   "outputs": [
    {
     "name": "stderr",
     "output_type": "stream",
     "text": [
      "WARNING    C:\\ProgramData\\Anaconda3\\envs\\temporal_coding\\lib\\site-packages\\brian2\\core\\variables.py:174: FutureWarning: Conversion of the second argument of issubdtype from `float` to `np.floating` is deprecated. In future, it will be treated as `np.float64 == np.dtype(float).type`.\n",
      "  return np.issubdtype(np.bool, self.dtype)\n",
      " [py.warnings]\n",
      "WARNING    C:\\ProgramData\\Anaconda3\\envs\\temporal_coding\\lib\\site-packages\\brian2\\core\\variables.py:174: FutureWarning: Conversion of the second argument of issubdtype from `bool` to `np.generic` is deprecated. In future, it will be treated as `np.bool_ == np.dtype(bool).type`.\n",
      "  return np.issubdtype(np.bool, self.dtype)\n",
      " [py.warnings]\n",
      "WARNING    C:\\ProgramData\\Anaconda3\\envs\\temporal_coding\\lib\\site-packages\\brian2\\groups\\group.py:258: FutureWarning: Conversion of the second argument of issubdtype from `int` to `np.signedinteger` is deprecated. In future, it will be treated as `np.int32 == np.dtype(int).type`.\n",
      "  elif not np.issubdtype(index_array.dtype, np.signedinteger):\n",
      " [py.warnings]\n"
     ]
    }
   ],
   "source": [
    "# Global generation parameters\n",
    "set_size = 100\n",
    "num_neur= 30\n",
    "rate = 15\n",
    "duration_ms = 500\n",
    "\n",
    "# Paramters for generation using temporal shift\n",
    "tempshift_params = dict(\n",
    "    rate=rate,\n",
    "    num_neur=num_neur,\n",
    "    duration_ms=duration_ms,\n",
    "    shift_size=5,\n",
    "    set1_size=set_size,\n",
    "    set2_size=set_size)\n",
    "\n",
    "# Parameters for generation using simplified vesicle release model\n",
    "vesrel_params = dict(\n",
    "    rate=rate,\n",
    "    num_neur=num_neur,\n",
    "    duration_ms=duration_ms,\n",
    "    span=5,\n",
    "    mode=1,\n",
    "    num_ves=20,\n",
    "    set1_size=set_size, \n",
    "    set2_size=set_size)\n",
    "\n",
    "# Generate samples\n",
    "all_samples_temporal_shift = gen_with_temporal_shift(**tempshift_params)\n",
    "all_samples_vesicle_release = gen_with_vesicle_release(**vesrel_params)\n",
    "\n",
    "# Isolate single samples for use in testing\n",
    "tempshift_num = all_samples_temporal_shift['data'][1]\n",
    "vesrel_num = all_samples_vesicle_release['data'][1]"
   ]
  },
  {
   "cell_type": "markdown",
   "metadata": {},
   "source": [
    "Vectorization function to normalize sample times to matrices"
   ]
  },
  {
   "cell_type": "code",
   "execution_count": 79,
   "metadata": {},
   "outputs": [],
   "source": [
    "def vectorize_sample(sample, duration_ms, dt=0.1):\n",
    "    # Assumes sample times are given in ms\n",
    "    num_trains = sample.shape[0]\n",
    "    num_bins = int(duration_ms / dt)\n",
    "    binarized = np.zeros((num_trains, num_bins))\n",
    "    for i,train in enumerate(sample):\n",
    "        times = (train/dt).astype(int)\n",
    "        inds, counts = np.unique(times, return_counts=True)\n",
    "        binarized[i][inds] = counts\n",
    "    return binarized\n"
   ]
  },
  {
   "cell_type": "markdown",
   "metadata": {},
   "source": [
    "Flattening function for testing on sequential vectors"
   ]
  },
  {
   "cell_type": "code",
   "execution_count": 77,
   "metadata": {},
   "outputs": [],
   "source": [
    "def flatten_sample(sample):\n",
    "    inds = []\n",
    "    times = []\n",
    "    for i, neuron in enumerate(sample):\n",
    "        inds.extend([i] * neuron.shape[0])\n",
    "        times.extend(neuron)\n",
    "    return np.array([inds, times])"
   ]
  },
  {
   "cell_type": "markdown",
   "metadata": {},
   "source": [
    "Generate samples for testing"
   ]
  },
  {
   "cell_type": "code",
   "execution_count": 82,
   "metadata": {},
   "outputs": [],
   "source": [
    "dt = 0.1\n",
    "tempshift_bin = vectorize_sample(tempshift_num, duration_ms, dt)\n",
    "vesrel_bin = vectorize_sample(vesrel_num, duration_ms, dt)\n",
    "tempshift_flat = flatten_sample(tempshift_num)\n",
    "vesrel_flat = flatten_sample(vesrel_num)"
   ]
  },
  {
   "cell_type": "markdown",
   "metadata": {},
   "source": [
    "# Model testing"
   ]
  },
  {
   "cell_type": "code",
   "execution_count": 72,
   "metadata": {},
   "outputs": [],
   "source": [
    "from numba import jit"
   ]
  },
  {
   "cell_type": "markdown",
   "metadata": {},
   "source": [
    "${dv\\over dt}  = -{v\\over \\tau}$"
   ]
  },
  {
   "cell_type": "code",
   "execution_count": null,
   "metadata": {},
   "outputs": [],
   "source": []
  }
 ],
 "metadata": {
  "kernelspec": {
   "display_name": "Python 3",
   "language": "python",
   "name": "python3"
  },
  "language_info": {
   "codemirror_mode": {
    "name": "ipython",
    "version": 3
   },
   "file_extension": ".py",
   "mimetype": "text/x-python",
   "name": "python",
   "nbconvert_exporter": "python",
   "pygments_lexer": "ipython3",
   "version": "3.6.5"
  }
 },
 "nbformat": 4,
 "nbformat_minor": 2
}
