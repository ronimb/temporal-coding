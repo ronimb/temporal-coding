{
 "cells": [
  {
   "cell_type": "code",
   "execution_count": 1,
   "metadata": {},
   "outputs": [
    {
     "ename": "ImportError",
     "evalue": "/home/ron/.conda/envs/temporal_coding/lib/python3.6/site-packages/zmq/backend/cython/../../../../.././libstdc++.so.6: version `CXXABI_1.3.9' not found (required by /home/ron/.conda/envs/temporal_coding/lib/python3.6/site-packages/scipy/sparse/_sparsetools.cpython-36m-x86_64-linux-gnu.so)",
     "output_type": "error",
     "traceback": [
      "\u001b[0;31m---------------------------------------------------------------------------\u001b[0m",
      "\u001b[0;31mImportError\u001b[0m                               Traceback (most recent call last)",
      "\u001b[0;32m<ipython-input-1-93b37ba5794c>\u001b[0m in \u001b[0;36m<module>\u001b[0;34m\u001b[0m\n\u001b[1;32m      1\u001b[0m \u001b[0;32mimport\u001b[0m \u001b[0mnumpy\u001b[0m \u001b[0;32mas\u001b[0m \u001b[0mnp\u001b[0m\u001b[0;34m\u001b[0m\u001b[0m\n\u001b[0;32m----> 2\u001b[0;31m \u001b[0;32mfrom\u001b[0m \u001b[0mscipy\u001b[0m\u001b[0;34m.\u001b[0m\u001b[0mintegrate\u001b[0m \u001b[0;32mimport\u001b[0m \u001b[0msolve_ivp\u001b[0m\u001b[0;34m\u001b[0m\u001b[0m\n\u001b[0m\u001b[1;32m      3\u001b[0m \u001b[0;32mimport\u001b[0m \u001b[0mpandas\u001b[0m \u001b[0;32mas\u001b[0m \u001b[0mpd\u001b[0m\u001b[0;34m\u001b[0m\u001b[0m\n\u001b[1;32m      4\u001b[0m \u001b[0;32mfrom\u001b[0m \u001b[0mitertools\u001b[0m \u001b[0;32mimport\u001b[0m \u001b[0mproduct\u001b[0m\u001b[0;34m\u001b[0m\u001b[0m\n\u001b[1;32m      5\u001b[0m \u001b[0;32mfrom\u001b[0m \u001b[0mmultiprocessing\u001b[0m \u001b[0;32mimport\u001b[0m \u001b[0mPool\u001b[0m\u001b[0;34m\u001b[0m\u001b[0m\n",
      "\u001b[0;32m~/.conda/envs/temporal_coding/lib/python3.6/site-packages/scipy/integrate/__init__.py\u001b[0m in \u001b[0;36m<module>\u001b[0;34m\u001b[0m\n\u001b[1;32m     91\u001b[0m \u001b[0;32mfrom\u001b[0m \u001b[0;34m.\u001b[0m\u001b[0mquadpack\u001b[0m \u001b[0;32mimport\u001b[0m \u001b[0;34m*\u001b[0m\u001b[0;34m\u001b[0m\u001b[0m\n\u001b[1;32m     92\u001b[0m \u001b[0;32mfrom\u001b[0m \u001b[0;34m.\u001b[0m\u001b[0m_ode\u001b[0m \u001b[0;32mimport\u001b[0m \u001b[0;34m*\u001b[0m\u001b[0;34m\u001b[0m\u001b[0m\n\u001b[0;32m---> 93\u001b[0;31m \u001b[0;32mfrom\u001b[0m \u001b[0;34m.\u001b[0m\u001b[0m_bvp\u001b[0m \u001b[0;32mimport\u001b[0m \u001b[0msolve_bvp\u001b[0m\u001b[0;34m\u001b[0m\u001b[0m\n\u001b[0m\u001b[1;32m     94\u001b[0m from ._ivp import (solve_ivp, OdeSolution, DenseOutput,\n\u001b[1;32m     95\u001b[0m                    OdeSolver, RK23, RK45, Radau, BDF, LSODA)\n",
      "\u001b[0;32m~/.conda/envs/temporal_coding/lib/python3.6/site-packages/scipy/integrate/_bvp.py\u001b[0m in \u001b[0;36m<module>\u001b[0;34m\u001b[0m\n\u001b[1;32m      7\u001b[0m \u001b[0;32mfrom\u001b[0m \u001b[0mnumpy\u001b[0m\u001b[0;34m.\u001b[0m\u001b[0mlinalg\u001b[0m \u001b[0;32mimport\u001b[0m \u001b[0mnorm\u001b[0m\u001b[0;34m,\u001b[0m \u001b[0mpinv\u001b[0m\u001b[0;34m\u001b[0m\u001b[0m\n\u001b[1;32m      8\u001b[0m \u001b[0;34m\u001b[0m\u001b[0m\n\u001b[0;32m----> 9\u001b[0;31m \u001b[0;32mfrom\u001b[0m \u001b[0mscipy\u001b[0m\u001b[0;34m.\u001b[0m\u001b[0msparse\u001b[0m \u001b[0;32mimport\u001b[0m \u001b[0mcoo_matrix\u001b[0m\u001b[0;34m,\u001b[0m \u001b[0mcsc_matrix\u001b[0m\u001b[0;34m\u001b[0m\u001b[0m\n\u001b[0m\u001b[1;32m     10\u001b[0m \u001b[0;32mfrom\u001b[0m \u001b[0mscipy\u001b[0m\u001b[0;34m.\u001b[0m\u001b[0msparse\u001b[0m\u001b[0;34m.\u001b[0m\u001b[0mlinalg\u001b[0m \u001b[0;32mimport\u001b[0m \u001b[0msplu\u001b[0m\u001b[0;34m\u001b[0m\u001b[0m\n\u001b[1;32m     11\u001b[0m \u001b[0;32mfrom\u001b[0m \u001b[0mscipy\u001b[0m\u001b[0;34m.\u001b[0m\u001b[0moptimize\u001b[0m \u001b[0;32mimport\u001b[0m \u001b[0mOptimizeResult\u001b[0m\u001b[0;34m\u001b[0m\u001b[0m\n",
      "\u001b[0;32m~/.conda/envs/temporal_coding/lib/python3.6/site-packages/scipy/sparse/__init__.py\u001b[0m in \u001b[0;36m<module>\u001b[0;34m\u001b[0m\n\u001b[1;32m    227\u001b[0m \u001b[0;34m\u001b[0m\u001b[0m\n\u001b[1;32m    228\u001b[0m \u001b[0;32mfrom\u001b[0m \u001b[0;34m.\u001b[0m\u001b[0mbase\u001b[0m \u001b[0;32mimport\u001b[0m \u001b[0;34m*\u001b[0m\u001b[0;34m\u001b[0m\u001b[0m\n\u001b[0;32m--> 229\u001b[0;31m \u001b[0;32mfrom\u001b[0m \u001b[0;34m.\u001b[0m\u001b[0mcsr\u001b[0m \u001b[0;32mimport\u001b[0m \u001b[0;34m*\u001b[0m\u001b[0;34m\u001b[0m\u001b[0m\n\u001b[0m\u001b[1;32m    230\u001b[0m \u001b[0;32mfrom\u001b[0m \u001b[0;34m.\u001b[0m\u001b[0mcsc\u001b[0m \u001b[0;32mimport\u001b[0m \u001b[0;34m*\u001b[0m\u001b[0;34m\u001b[0m\u001b[0m\n\u001b[1;32m    231\u001b[0m \u001b[0;32mfrom\u001b[0m \u001b[0;34m.\u001b[0m\u001b[0mlil\u001b[0m \u001b[0;32mimport\u001b[0m \u001b[0;34m*\u001b[0m\u001b[0;34m\u001b[0m\u001b[0m\n",
      "\u001b[0;32m~/.conda/envs/temporal_coding/lib/python3.6/site-packages/scipy/sparse/csr.py\u001b[0m in \u001b[0;36m<module>\u001b[0;34m\u001b[0m\n\u001b[1;32m     13\u001b[0m \u001b[0;32mfrom\u001b[0m \u001b[0;34m.\u001b[0m\u001b[0mbase\u001b[0m \u001b[0;32mimport\u001b[0m \u001b[0mspmatrix\u001b[0m\u001b[0;34m\u001b[0m\u001b[0m\n\u001b[1;32m     14\u001b[0m \u001b[0;34m\u001b[0m\u001b[0m\n\u001b[0;32m---> 15\u001b[0;31m \u001b[0;32mfrom\u001b[0m \u001b[0;34m.\u001b[0m\u001b[0m_sparsetools\u001b[0m \u001b[0;32mimport\u001b[0m \u001b[0mcsr_tocsc\u001b[0m\u001b[0;34m,\u001b[0m \u001b[0mcsr_tobsr\u001b[0m\u001b[0;34m,\u001b[0m \u001b[0mcsr_count_blocks\u001b[0m\u001b[0;34m,\u001b[0m\u001b[0;31m \u001b[0m\u001b[0;31m\\\u001b[0m\u001b[0;34m\u001b[0m\u001b[0m\n\u001b[0m\u001b[1;32m     16\u001b[0m         \u001b[0mget_csr_submatrix\u001b[0m\u001b[0;34m,\u001b[0m \u001b[0mcsr_sample_values\u001b[0m\u001b[0;34m\u001b[0m\u001b[0m\n\u001b[1;32m     17\u001b[0m from .sputils import (upcast, isintlike, IndexMixin, issequence,\n",
      "\u001b[0;31mImportError\u001b[0m: /home/ron/.conda/envs/temporal_coding/lib/python3.6/site-packages/zmq/backend/cython/../../../../.././libstdc++.so.6: version `CXXABI_1.3.9' not found (required by /home/ron/.conda/envs/temporal_coding/lib/python3.6/site-packages/scipy/sparse/_sparsetools.cpython-36m-x86_64-linux-gnu.so)"
     ]
    }
   ],
   "source": [
    "import numpy as np\n",
    "from scipy.integrate import solve_ivp\n",
    "import pandas as pd\n",
    "from itertools import product\n",
    "from multiprocessing import Pool\n",
    "import matplotlib.pyplot as plt\n",
    "import seaborn as sns\n",
    "import plotly.graph_objs as go\n",
    "from plotly.offline import init_notebook_mode, iplot\n",
    "init_notebook_mode(connected=True)"
   ]
  },
  {
   "cell_type": "markdown",
   "metadata": {},
   "source": [
    "### Background\n",
    "In [Synaptic theory of working memory, Mongillo et al. 2008](http://science.sciencemag.org/content/319/5869/1543),\n",
    "a two parameter model for vesicle release and recovery is detailed.  \n",
    "These two parameters are:  \n",
    "$x$ : The fraction of vesicles available for release (from the maximum RRP)  \n",
    "$u$ : The fraction of vesicles in $x$ that are released in response to a spike - This models the presynaptic intracellular states affecting release probabilites  \n",
    "\n",
    "\n",
    "The behaviour of each of these is governed by the following differential equations:\n",
    "$$\n",
    "{dx\\over dt} = {{1-x_{(t)}} \\over \\tau_D} - u_{(t)} x_{(t)}\\delta(t-t_{sp})\\\\\n",
    "{du\\over dt} = {{U-u_{(t)}}\\over \\tau_f} + U(1-u_{(t)})(\\delta(t-t_{st})\n",
    "$$\n",
    "where $U$ is some baseline value of $u$ towards which it grows or decays.\n",
    "$tau_D$ and $tau_f$ are decay constants for $x$ and $u$ respectively, with $tau_f >> tau_D$"
   ]
  },
  {
   "cell_type": "markdown",
   "metadata": {},
   "source": [
    "### Our model\n",
    "Our model replaces the parameter $u$ with a parameter $p$ which represents the independent and identical release probability  \n",
    "for each of the vesicles currently in the pool.  \n",
    "The number of vesicles in the pool is governed by  \n",
    "$${dn\\over dt} = {{1\\over \\tau_n}\\times (1-\\delta(n_{(t)}-n_{max}))} - r_{(t)}$$\n",
    "where   \n",
    "$$r_{(t)} = p_{(t)}\\times n_{(t)}$$\n",
    "and thus\n",
    "$${dn\\over dt} = {{1\\over \\tau_n} \\times (1-\\delta(n_{(t)}-n_{max}))} - p_{(t)}\\times n_{(t)}$$\n",
    "$r_{(t)}$ is what we are essentially interested in, the number of vesicles released at each point in time.  \n",
    "To derive it, we need to derive expressions for the behavior of $p_{(t)}$ somehow."
   ]
  },
  {
   "cell_type": "markdown",
   "metadata": {},
   "source": [
    "## Parameter derivation\n",
    "### Constraints on $p_{(t)}$\n",
    "We want the behavior of $p_{(t)}$ to be as follows:\n",
    "1. It should decay to ~0 by the state change duration $-$ hereby noted as $d_{s}$\n",
    "2. It should set the expected value of $r_{(t)}=p_{(t)}\\times n_{(t)}$ to $n_{max}$  at $t=d_{lr}$ where $d_{lr}$ is the longest possible release duration, $\\longrightarrow$ $\\int_{0}^{d_{lr}}p_{(t)}\\times n_{(t)}=n_{max}$\n",
    "3. It should have a maximal value that it can not pass - a maximal probability $p_{max}$\n",
    "4. It should quickly rise to that value following an action potential, regardless of its current value\n",
    "5. At each specified actual release duration $d_{r}$\n"
   ]
  },
  {
   "cell_type": "markdown",
   "metadata": {},
   "source": [
    "### Mathematical statement\n",
    "Thus, the behavior of $p$ in time is composed of two parts:\n",
    "$$ \n",
    "p_{decay} = {-p_{(t)}\\over\\tau_p} \\\\\n",
    "p_{rise}=p_{max}\\times \\delta(t_{sp}-t) \\\\\n",
    "{dp \\over dt}=p_{decay}+p_{rise}\\\\\n",
    "{dp \\over dt}={-p_{(t)}\\over \\tau_p}+{(p_{max} - p_{(t)})\\times \\delta(t_{sp}-t)}\\\\\n",
    "where:\\ \\  0 < p < p_{max}\n",
    "$$\n",
    "we are looking for values of $\\tau_p$ and $p_{max}$ that will satisfy requirements 1-5.  "
   ]
  },
  {
   "cell_type": "markdown",
   "metadata": {},
   "source": [
    "#### Deriving $\\tau_p$\n",
    "To satisfy requirement #1, we examine how $p$ would behave if it started at $p_{max}$ and only decayed to approximately 0 within $d_{s}$ ms,\n",
    "for this, we restate the exponential decay function in its integrated form with the given values:  \n",
    "$$\n",
    "p_{(t)}=p_{max}\\times e^{-t/ \\tau_p}\\\\\n",
    "p_{(d_{s})} \\rightarrow 0\\\\\n",
    "p_{(d_{s})} = 0 + eps\n",
    "$$\n",
    "We set the tolerance around zero to $eps = 10^{-4}$ and solve for $\\tau_p$:\n",
    "$$\n",
    "p_{max}\\times e^{-d_{s}/\\tau_p}=10^{-4}\\\\\n",
    "ln(p_{max}\\times e^{-d_{s}/ \\tau_p})=ln(10^{-4})\\\\\n",
    "ln(p_{max})-{d_{s}\\over \\tau_p}=-4ln(10)\\\\\n",
    "ln(p_{max})+4ln(10)={d_{s}\\over \\tau_p}\\\\\n",
    "\\tau_p(ln(p_{max})+4ln(10))=d_{s}\\\\\n",
    "\\tau_p={d_{s} \\over ln(p_{max})+4ln(10)}\n",
    "$$"
   ]
  },
  {
   "cell_type": "markdown",
   "metadata": {},
   "source": [
    "#### Deriving $p_{max}$\n",
    "To satisfy requirement #2, we again assume only decay, and that p start at its maximal value,  \n",
    "and attempt to solve $\\int_{0}^{t_{lr}}p_{(t)}\\times n_{(t)}=n_{max}$ for $p_{(0)}=p_{max}$ and $n_{(0)}=n_{max}$  \n",
    "these conditions reflect the behavior of $p$ when an action potential arrives while the pool is full.  \n",
    "\n",
    "As we are assuming that a spike has just arrived, and are only interested in the behavior following a single spike,  \n",
    "the rising part of $dp \\over dt$ may be neglected such that we are again left with a simple exponential decay of $p_{(t)}$  \n",
    "with a starting value of $p_{max}$, so as before:\n",
    "$$\n",
    "p_{(t)}=p_{max}\\times e^{-t/\\tau_p}\n",
    "$$\n",
    "only now we also have:\n",
    "$$\n",
    "\\int_{0}^{d_{lr}}r_{(t)}=n_{max}\\\\\n",
    "\\int_{0}^{d_{lr}}p_{(t)}*n_{(t)}=n_{max}\\\\\n",
    "\\int_{0}^{d_{lr}}(p_{max}\\times e^{-t/ \\tau_p})\\times (n_{(t)})=n_{max}\n",
    "$$\n",
    "for $n_{(t)}$, because under these conditions $t_{lr}$ < $tau_n$, and we start with a full vesicle pool $n_{max}$, we get:\n",
    "$$\n",
    "{dn\\over dt} = -r_{(t)}\\\\\n",
    "{dn\\over dt} = -(p_{max}\\times e^{-t/ \\tau_p}\\times n_{(t)})\n",
    "$$\n",
    "lets use sympy to develop this further:"
   ]
  },
  {
   "cell_type": "code",
   "execution_count": 2,
   "metadata": {},
   "outputs": [
    {
     "data": {
      "image/png": "[encoded data removed]",
      "text/latex": [
       "$$\\left ( \\frac{d_{s}}{\\log{\\left (p_{max} \\right )} + 4 \\log{\\left (10 \\right )}} = \\tau_{p}, \\quad \\int_{0}^{d_{lr}} p_{max} \\left(- n_{t} p_{max} \\tau_{p} + n_{t} p_{max} \\tau_{p} e^{- \\frac{t}{\\tau_{p}}}\\right) e^{- \\frac{t}{\\tau_{p}}}\\, dt = n_{max}\\right )$$"
      ],
      "text/plain": [
       "⎛                            dₗᵣ                                              \n",
       "⎜                             ⌠                                               \n",
       "⎜                             ⎮       ⎛                          -t ⎞  -t     \n",
       "⎜                             ⎮       ⎜                          ───⎟  ───    \n",
       "⎜          dₛ                 ⎮       ⎜                           τₚ⎟   τₚ    \n",
       "⎜───────────────────── = τₚ,  ⎮  pₘₐₓ⋅⎝-nₜ⋅pₘₐₓ⋅τₚ + nₜ⋅pₘₐₓ⋅τₚ⋅ℯ   ⎠⋅ℯ    dt \n",
       "⎜log(pₘₐₓ) + 4⋅log(10)        ⌡                                               \n",
       "⎝                             0                                               \n",
       "\n",
       "      ⎞\n",
       "      ⎟\n",
       "      ⎟\n",
       "      ⎟\n",
       "      ⎟\n",
       "= nₘₐₓ⎟\n",
       "      ⎟\n",
       "      ⎠"
      ]
     },
     "execution_count": 2,
     "metadata": {},
     "output_type": "execute_result"
    }
   ],
   "source": [
    "import sympy as sym\n",
    "sym.init_printing()\n",
    "p_max, n_max, n, t, p, tau_p, d_lr, d_s = sym.symbols(['p_max', 'n_max', 'n_t', 't', 'p', 'tau_p', 'd_lr', 'd_s'])\n",
    "tau_p_exp = sym.Eq(d_s / (sym.log(p_max) + 4*sym.log(10)), tau_p)\n",
    "p = p_max * sym.exp(-t/tau_p)\n",
    "n_t = sym.Integral(-(p_max * sym.exp(-t/tau_p) *n), (t, 0, t)).doit()\n",
    "r_t = p * n_t\n",
    "intg_exp = sym.Eq(sym.Integral(r_t, (t, 0, d_lr)), n_max)\n",
    "tau_p_exp, intg_exp"
   ]
  },
  {
   "cell_type": "code",
   "execution_count": 3,
   "metadata": {},
   "outputs": [
    {
     "name": "stdout",
     "output_type": "stream",
     "text": [
      "Integrating\n"
     ]
    },
    {
     "data": {
      "image/png": "[encoded data removed]",
      "text/latex": [
       "$$\\int_{0}^{d_{lr}} p_{max} \\left(- \\frac{d_{s} n_{t} p_{max}}{\\log{\\left (p_{max} \\right )} + 4 \\log{\\left (10 \\right )}} + \\frac{d_{s} n_{t} p_{max} e^{- \\frac{t \\left(\\log{\\left (p_{max} \\right )} + 4 \\log{\\left (10 \\right )}\\right)}{d_{s}}}}{\\log{\\left (p_{max} \\right )} + 4 \\log{\\left (10 \\right )}}\\right) e^{- \\frac{t \\left(\\log{\\left (p_{max} \\right )} + 4 \\log{\\left (10 \\right )}\\right)}{d_{s}}}\\, dt = n_{max}$$"
      ],
      "text/plain": [
       "dₗᵣ                                                                           \n",
       " ⌠                                                                            \n",
       " ⎮       ⎛                                      -t⋅(log(pₘₐₓ) + 4⋅log(10)) ⎞  \n",
       " ⎮       ⎜                                      ───────────────────────────⎟  \n",
       " ⎮       ⎜                                                   dₛ            ⎟  \n",
       " ⎮       ⎜        dₛ⋅nₜ⋅pₘₐₓ        dₛ⋅nₜ⋅pₘₐₓ⋅ℯ                           ⎟  \n",
       " ⎮  pₘₐₓ⋅⎜- ───────────────────── + ───────────────────────────────────────⎟⋅ℯ\n",
       " ⎮       ⎝  log(pₘₐₓ) + 4⋅log(10)            log(pₘₐₓ) + 4⋅log(10)         ⎠  \n",
       " ⌡                                                                            \n",
       " 0                                                                            \n",
       "\n",
       "                                     \n",
       "                                     \n",
       "                                     \n",
       "-t⋅(log(pₘₐₓ) + 4⋅log(10))           \n",
       "───────────────────────────          \n",
       "             dₛ                      \n",
       "                            dt = nₘₐₓ\n",
       "                                     \n",
       "                                     \n",
       "                                     "
      ]
     },
     "execution_count": 3,
     "metadata": {},
     "output_type": "execute_result"
    }
   ],
   "source": [
    "# sym.solve([tau_p_exp, intg_exp], (tau_p, p_max))\n",
    "substituted = intg_exp.subs(tau_p, tau_p_exp.args[0])\n",
    "print('Integrating')\n",
    "substituted"
   ]
  },
  {
   "cell_type": "code",
   "execution_count": 4,
   "metadata": {},
   "outputs": [
    {
     "data": {
      "image/png": "[encoded data removed]",
      "text/latex": [
       "$$\\begin{cases} - \\frac{d_{s}^{2} n_{t} p_{max}^{2} \\left(- 2 e^{\\frac{d_{lr} \\left(\\log{\\left (p_{max} \\right )} + \\log{\\left (10000 \\right )}\\right)}{d_{s}}} + e^{\\frac{d_{lr} \\left(2 \\log{\\left (p_{max} \\right )} + \\log{\\left (100000000 \\right )}\\right)}{d_{s}}} + 1\\right) e^{- \\frac{d_{lr} \\left(2 \\log{\\left (p_{max} \\right )} + \\log{\\left (100000000 \\right )}\\right)}{d_{s}}}}{2 \\left(\\log{\\left (p_{max} \\right )}^{2} + \\log{\\left (100000000 \\right )} \\log{\\left (p_{max} \\right )} + 16 \\log{\\left (10 \\right )}^{2}\\right)} & \\text{for}\\: \\left(p_{max} \\geq 0 \\wedge p_{max} < \\frac{1}{10000}\\right) \\vee p_{max} > \\frac{1}{10000} \\\\0 & \\text{otherwise} \\end{cases} = n_{max}$$"
      ],
      "text/plain": [
       "⎧              ⎛     dₗᵣ⋅(log(pₘₐₓ) + log(10000))    dₗᵣ⋅(2⋅log(pₘₐₓ) + log(10\n",
       "⎪              ⎜     ────────────────────────────    ─────────────────────────\n",
       "⎪   2        2 ⎜                  dₛ                                 dₛ       \n",
       "⎪-dₛ ⋅nₜ⋅pₘₐₓ ⋅⎝- 2⋅ℯ                             + ℯ                         \n",
       "⎨─────────────────────────────────────────────────────────────────────────────\n",
       "⎪                                       ⎛   2                                 \n",
       "⎪                                     2⋅⎝log (pₘₐₓ) + log(100000000)⋅log(pₘₐₓ)\n",
       "⎪                                                                             \n",
       "⎩                                                                0            \n",
       "\n",
       "0000000))    ⎞  -dₗᵣ⋅(2⋅log(pₘₐₓ) + log(100000000))                           \n",
       "─────────    ⎟  ────────────────────────────────────                          \n",
       "             ⎟                   dₛ                                           \n",
       "          + 1⎠⋅ℯ                                                              \n",
       "─────────────────────────────────────────────────────  for (pₘₐₓ ≥ 0 ∧ pₘₐₓ < \n",
       "         2    ⎞                                                               \n",
       " + 16⋅log (10)⎠                                                               \n",
       "                                                                              \n",
       "                                                                          othe\n",
       "\n",
       "                                \n",
       "                                \n",
       "                                \n",
       "                                \n",
       "1/10000) ∨ pₘₐₓ > 1/10000 = nₘₐₓ\n",
       "                                \n",
       "                                \n",
       "                                \n",
       "rwise                           "
      ]
     },
     "execution_count": 4,
     "metadata": {},
     "output_type": "execute_result"
    }
   ],
   "source": [
    "eq=sym.Eq(substituted.args[0].doit().simplify(), n_max)\n",
    "eq"
   ]
  },
  {
   "cell_type": "markdown",
   "metadata": {},
   "source": [
    "Now, to arrive at $p_{max}$ and $tau_p$, we solve this equation for the following parameter values:  \n",
    "$\n",
    "d_{lr} = 9 \\\\\n",
    "d_{s} = 15 \\\\\n",
    "n_{max} = 20 \n",
    "$"
   ]
  },
  {
   "cell_type": "code",
   "execution_count": 8,
   "metadata": {},
   "outputs": [
    {
     "data": {
      "image/png": "[encoded data removed]",
      "text/latex": [
       "$$\\begin{cases} \\frac{9 n_{t} \\left(200 \\cdot 10^{\\frac{3}{5}} p_{max}^{\\frac{7}{5}} - \\sqrt[5]{10} p_{max}^{\\frac{4}{5}} - 100000 p_{max}^{2}\\right)}{8000 \\left(\\log{\\left (p_{max} \\right )}^{2} + 8 \\log{\\left (10 \\right )} \\log{\\left (p_{max} \\right )} + 16 \\log{\\left (10 \\right )}^{2}\\right)} & \\text{for}\\: \\left(p_{max} \\geq 0 \\wedge p_{max} < \\frac{1}{10000}\\right) \\vee p_{max} > \\frac{1}{10000} \\\\0 & \\text{otherwise} \\end{cases} = 20$$"
      ],
      "text/plain": [
       "⎧     ⎛      3/5     7/5   5 ____     4/5              2⎞                     \n",
       "⎪9⋅nₜ⋅⎝200⋅10   ⋅pₘₐₓ    - ╲╱ 10 ⋅pₘₐₓ    - 100000⋅pₘₐₓ ⎠                     \n",
       "⎪────────────────────────────────────────────────────────  for (pₘₐₓ ≥ 0 ∧ pₘₐ\n",
       "⎨      ⎛   2                                     2    ⎞                       \n",
       "⎪ 8000⋅⎝log (pₘₐₓ) + 8⋅log(10)⋅log(pₘₐₓ) + 16⋅log (10)⎠                       \n",
       "⎪                                                                             \n",
       "⎩                           0                                                 \n",
       "\n",
       "                                  \n",
       "                                  \n",
       "ₓ < 1/10000) ∨ pₘₐₓ > 1/10000     \n",
       "                              = 20\n",
       "                                  \n",
       "                                  \n",
       "otherwise                         "
      ]
     },
     "execution_count": 8,
     "metadata": {},
     "output_type": "execute_result"
    }
   ],
   "source": [
    "subs_eq = eq.subs([(d_lr, 9), (n_max, 20), (d_s, 15)]).simplify()\n",
    "subs_eq"
   ]
  },
  {
   "cell_type": "markdown",
   "metadata": {},
   "source": [
    "running the input through Wolfram alpha, we arrive at the following expression for $n_{(t)}$:\n",
    "$$\n",
    "n_{(t)} = n_{max} \\times e ^ {\\tau_p \\times p_{max} \\times e ^ {-t / \\tau_p} }\n",
    "$$\n",
    "plugging these values in to the integral gives us:\n",
    "$$\n",
    "\\int_{0}^{t_{lr}}(p_{max}\\times n_{max}\\times e^{-t/ \\tau_p} \\times e ^ {\\tau_p \\times p_{max} \\times e ^ {-t / \\tau_p} })=n_{max}\n",
    "$$\n",
    "\n",
    "solving the definite integral for $t_{lr}$ gives us:"
   ]
  },
  {
   "cell_type": "code",
   "execution_count": 7,
   "metadata": {},
   "outputs": [
    {
     "data": {
      "image/png": "[encoded data removed]",
      "text/latex": [
       "$$\\left ( n_{max} p_{max} e^{- \\frac{t}{\\tau_{p}}} e^{p_{max} \\tau_{p} e^{- \\frac{t}{\\tau_{p}}}}, \\quad n_{max} \\left(e^{p_{max} \\tau_{p}} - e^{p_{max} \\tau_{p} e^{- \\frac{t_{lr}}{\\tau_{p}}}}\\right)\\right )$$"
      ],
      "text/plain": [
       "⎛                         -t        ⎛                     -tₗᵣ ⎞⎞\n",
       "⎜           -t            ───       ⎜                     ─────⎟⎟\n",
       "⎜           ───            τₚ       ⎜                       τₚ ⎟⎟\n",
       "⎜            τₚ  pₘₐₓ⋅τₚ⋅ℯ          ⎜ pₘₐₓ⋅τₚ    pₘₐₓ⋅τₚ⋅ℯ     ⎟⎟\n",
       "⎝nₘₐₓ⋅pₘₐₓ⋅ℯ   ⋅ℯ            , nₘₐₓ⋅⎝ℯ        - ℯ              ⎠⎠"
      ]
     },
     "execution_count": 7,
     "metadata": {},
     "output_type": "execute_result"
    }
   ],
   "source": [
    "import sympy as sym\n",
    "sym.init_printing()\n",
    "p_max, n_max, t, tau_p, t_lr = sym.symbols(['p_max', 'n_max', 't', 'tau_p', 't_lr'])\n",
    "expr = p_max * n_max * sym.exp(-t / tau_p) * sym.exp(tau_p * p_max * sym.exp(-t / tau_p))\n",
    "\n",
    "intg_expr = sym.integrate(expr, (t, 0, t_lr)).simplify()\n",
    "(expr, intg_expr)"
   ]
  },
  {
   "cell_type": "markdown",
   "metadata": {},
   "source": [
    "$$\n",
    "n_{max}(e^{\\tau_p p_{max}} - e^{\\tau_p p_{max}\\times e^ {-t_{lr} / \\tau_p}}) = n_{max}\\\\\n",
    "e^{\\tau_p p_{max}} - e^{\\tau_p p_{max}\\times e^ {-t_{lr} / \\tau_p}} = 1\n",
    "$$"
   ]
  },
  {
   "cell_type": "markdown",
   "metadata": {},
   "source": [
    "We now substitue $\\tau_p$ with the value derived above:\n",
    "$$ \\tau_p={t_{lr} \\over ln(p_{max})+4ln(10)} $$"
   ]
  },
  {
   "cell_type": "code",
   "execution_count": null,
   "metadata": {},
   "outputs": [],
   "source": [
    "tau_p_exp = t_lr / (sym.log(p_max) + 4*sym.log(10))\n",
    "subs_intg_exp = intg_expr.subs(tau_p, tau_p_exp)\n",
    "eq = sym.Eq(subs_intg_exp, n_max)\n",
    "eq"
   ]
  },
  {
   "cell_type": "markdown",
   "metadata": {},
   "source": [
    "Now, to arrive at $p_max$ and $tau_p$, we solve this equation for the following parameter values:  \n",
    "$\n",
    "t_{lr} = 9 \\\\\n",
    "n_{max} = 20 \n",
    "$"
   ]
  },
  {
   "cell_type": "code",
   "execution_count": null,
   "metadata": {},
   "outputs": [],
   "source": [
    "assigned_expr = eq.subs([(t_lr, 9), (n_max, 20)]).\n",
    "assigned_expr"
   ]
  },
  {
   "cell_type": "markdown",
   "metadata": {},
   "source": [
    "Sympy seems unable to solve this expression,  \n",
    "however wolfram alpha gives us a (somewhat dubious) value for $p_{max} = 0.679$.  \n",
    "we assign this with previously mentioned values to determine $tau_p$:\n",
    "$$ \n",
    "\\tau_p={t_{lr} \\over ln(p_{max})+4ln(10)} \\\\\n",
    "\\tau_p={9 \\over ln(0.679)+4ln(10)} \\\\\n",
    "\\tau_p = 1.0200374\n",
    "$$"
   ]
  },
  {
   "cell_type": "markdown",
   "metadata": {},
   "source": [
    "Now lets examine a simple model using these values, we know that with the values specified,  \n",
    "starting with a full pool, we should have no vesicles remaining after 9 ms."
   ]
  },
  {
   "cell_type": "code",
   "execution_count": null,
   "metadata": {},
   "outputs": [],
   "source": [
    "from scipy.integrate import solve_ivp\n",
    "p_max_wolfram = 0.6796554826455\n",
    "tau_p_computed = 9 / (np.log(p_max_wolfram) + 4 * np.log(10))\n",
    "    \n",
    "def test_diff(t, n, p, tau_p):\n",
    "    dp = -p / tau_p\n",
    "    r_t = p * n\n",
    "    dn = -r_t\n",
    "    return np.r_[dn, dp]\n",
    "\n",
    "init_n = 20\n",
    "init_p = p_max_wolfram\n",
    "s = solve_ivp(fun=lambda t, y: test_diff(t, y[0], y[1], tau_p=tau_p_computed),\n",
    "         t_span=(0, 20),\n",
    "         y0=np.r_[init_n, init_p])\n",
    "\n",
    "plt.plot(s.t, s.y[0])\n",
    "plt.ylim([0, init_n]);"
   ]
  },
  {
   "cell_type": "markdown",
   "metadata": {},
   "source": [
    "## Attempting manual derivation"
   ]
  },
  {
   "cell_type": "markdown",
   "metadata": {},
   "source": [
    "Main functions"
   ]
  },
  {
   "cell_type": "code",
   "execution_count": 2,
   "metadata": {},
   "outputs": [],
   "source": [
    "def tau_p(p_max, d_s=15, eps=1e-4):\n",
    "    return d_s / (np.log(p_max) - np.log(eps))\n",
    "\n",
    "\n",
    "def p_t(t, p_max, **kwargs):\n",
    "    p = p_max * np.exp(-t / tau_p(p_max, **kwargs))\n",
    "    return p\n",
    "\n",
    "\n",
    "def dn_dt(t, n, p_max, **kwargs):\n",
    "    r_t = p_t(t, p_max, **kwargs) * n\n",
    "    return -r_t\n",
    "\n",
    "\n",
    "def n(time_bins, p_max, init_n=20, **kwargs):\n",
    "    integrated = solve_ivp(fun=lambda t, y: dn_dt(t, y, p_max, **kwargs),\n",
    "                           t_span=(0, time_bins[-1]),\n",
    "                           y0=(init_n,),\n",
    "                           t_eval=time_bins)\n",
    "    return integrated.y.squeeze()"
   ]
  },
  {
   "cell_type": "markdown",
   "metadata": {},
   "source": [
    "Helper functions"
   ]
  },
  {
   "cell_type": "code",
   "execution_count": 3,
   "metadata": {},
   "outputs": [],
   "source": [
    "def make_t_data(times, d_s, p_max, n_max, **kwargs):\n",
    "    # Making sure our input variables can be interpreted as arrays if they are not already\n",
    "    d_s_arr = np.r_[d_s]\n",
    "    p_max_arr = np.r_[p_max]\n",
    "    n_max_arr = np.r_[n_max]\n",
    "\n",
    "    conditions = [\n",
    "        {'d_s': d_s, 'p_max': p_max, 'n_max': n_max} for d_s, p_max, n_max in product(d_s_arr, p_max_arr, n_max_arr)]\n",
    "\n",
    "    results = []\n",
    "    for params in conditions:\n",
    "        current_result = params.copy()\n",
    "        param_dict = {key: params[key] for key in params if key != 'n_max'}\n",
    "        current_p = p_t(times, **param_dict, **kwargs)\n",
    "        current_n = n(times, init_n=params['n_max'], **param_dict, **kwargs)\n",
    "        current_result.update({\n",
    "            't': times,\n",
    "            'p': current_p,\n",
    "            'n': current_n,\n",
    "        })\n",
    "        results.append(pd.DataFrame(current_result))\n",
    "    results = pd.concat(results)\n",
    "    results['r'] = results.p * results.n\n",
    "    return results\n",
    "\n",
    "def _make_for_p_params(params, pmax_values, dt, **kwargs):\n",
    "    times = np.arange(0 + dt, params['t'] + dt, dt)\n",
    "    current_result = params.copy()\n",
    "    current_p = p_t(params['t'], np.r_[pmax_values], d_s=params['d_s'], **kwargs)\n",
    "    current_n = []\n",
    "    for p_max in pmax_values:\n",
    "        current_n.append(\n",
    "            n(times, init_n=params['n_max'], p_max=p_max, d_s=params['d_s'], **kwargs)[-1])\n",
    "    current_result.update({\n",
    "        'p_max': pmax_values,\n",
    "        'p': current_p,\n",
    "        'n': current_n,\n",
    "        't': [params['t']] * pmax_values.shape[0]\n",
    "    })\n",
    "    return pd.DataFrame(current_result)\n",
    "def make_p_data(pmax_values, t, d_s, n_max, dt=0.01, **kwargs):\n",
    "    # Making sure our input variables can be interpreted as arrays if they are not already\n",
    "    t_arr = np.r_[t]\n",
    "    d_s_arr = np.r_[d_s]\n",
    "    n_max_arr = np.r_[n_max]\n",
    "\n",
    "    conditions = [\n",
    "        {'t': t, 'd_s': d_s, 'n_max': n_max} for t, d_s, n_max in product(t_arr, d_s_arr, n_max_arr)]\n",
    "\n",
    "    # results = []\n",
    "    # for params in conditions:\n",
    "    #     results.append(_make_for_p_params(params, pmax_values, dt, **kwargs))\n",
    "    with Pool(8) as P:\n",
    "        results = P.starmap(_make_for_p_params, [(c, pmax_values, dt) for c in conditions])\n",
    "    results = pd.concat(results)\n",
    "    return results\n",
    "\n",
    "def make_combo_data(times, combos, n_max, **kwargs):\n",
    "    results = []\n",
    "    for i, params in combos.iterrows():\n",
    "        current_result = dict(params)\n",
    "        current_result['n_max'] = n_max\n",
    "        current_p = p_t(times, p_max=params['p_max'], d_s=params['d_s'], **kwargs)\n",
    "        current_n = n(times, init_n=n_max, p_max=params['p_max'], d_s=params['d_s'], **kwargs)\n",
    "        current_result.update({\n",
    "            't': times,\n",
    "            'p': current_p,\n",
    "            'n': current_n,\n",
    "        })\n",
    "        results.append(pd.DataFrame(current_result))\n",
    "    results = pd.concat(results)\n",
    "    results['r'] = results.p * results.n\n",
    "    return results\n",
    "\n",
    "def plot_data(data, x='t', n_max=np.inf):\n",
    "    pmax_values = np.unique(data.p_max)\n",
    "    ds_values = np.unique(data.d_s)\n",
    "    t_values = np.unique(data.t)\n",
    "    if x == 't':\n",
    "        ys = ['p', 'r', 'n']\n",
    "        fig_shape = (len(ys), len(pmax_values))\n",
    "        # fig, axarr = plt.subplots(len(ys), len(pmax_values), sharex=True, sharey='row')\n",
    "        var_values = pmax_values\n",
    "        var_name = 'p_max'\n",
    "        hue = 'd_s'\n",
    "    if (x == 'p_max') or (x == 'p'):\n",
    "        x = 'p_max'\n",
    "        ys = ['n', 'p']\n",
    "        fig_shape = (len(ys), len(ds_values))\n",
    "        # fig, axarr = plt.subplots(len(ys), len(t_values), sharex=True, sharey='row')\n",
    "        var_values = ds_values\n",
    "        var_name = 'd_s'\n",
    "        hue = 't'\n",
    "\n",
    "    fig, axarr = plt.subplots(*fig_shape, sharex=True, sharey='row')\n",
    "    for i, (y, axrow) in enumerate(zip(ys, axarr)):\n",
    "        if np.ndim(axrow) == 0:\n",
    "            ax = axrow\n",
    "            value = var_values\n",
    "            plot_data = data[(data[var_name] == value[0]) & (data['n'] < n_max)]\n",
    "            sns.lineplot(x=x, y=y, hue=hue, data=plot_data, ax=ax)\n",
    "            if hue:\n",
    "                ax.legend_.remove()\n",
    "            if i == 0:\n",
    "                ax.set_title(f'{var_name} = {value[0]}')\n",
    "        else:\n",
    "            for value, ax in zip(var_values, axrow):\n",
    "                plot_data = data[(data[var_name] == value) & (data['n'] < n_max)]\n",
    "                sns.lineplot(x=x, y=y, hue=hue, data=plot_data, ax=ax)\n",
    "                if hue:\n",
    "                    ax.legend_.remove()\n",
    "                if i == 0:\n",
    "                    ax.set_title(f'{var_name} = {value}')\n",
    "    if hue:\n",
    "        if axarr.ndim == 2:\n",
    "            axarr[0, 0].legend(np.unique(data[hue]))\n",
    "        else:\n",
    "            axarr[0].legend(np.unique(data[hue]))\n",
    "\n",
    "def plot_combo(combo_data):\n",
    "    ds_values = np.unique(combo_data.d_s)\n",
    "    pmax_values = np.unique(combo_data.p_max)\n",
    "\n",
    "    x = 't'\n",
    "    ys = ['p', 'r', 'n']\n",
    "    hue = 'd_s'\n",
    "    fig_shape = (len(ys), len(pmax_values))\n",
    "\n",
    "    fig, axarr = plt.subplots(*fig_shape, sharex=True, sharey='row')\n",
    "    for i, (y, axrow) in enumerate(zip(ys, axarr)):\n",
    "        for j, (p_max, ax) in enumerate(zip(pmax_values, axrow)):\n",
    "            plot_data = combo_data[combo_data['p_max'] == p_max]\n",
    "            sns.lineplot(x=x, y=y, data=plot_data, ax=ax)\n",
    "            if i==0:\n",
    "                ax.set_title(f'p_max={p_max} | d_s={np.unique(plot_data.d_s)}')"
   ]
  },
  {
   "cell_type": "code",
   "execution_count": 6,
   "metadata": {},
   "outputs": [],
   "source": [
    "d_lr = 9\n",
    "n_max = 20\n",
    "\n",
    "pmax_range = (0.5, 5)\n",
    "n_pmax = 100\n",
    "ds_range = (30, 1000)\n",
    "n_ds = 100\n",
    "\n",
    "dt = 0.01  # ms\n",
    "\n",
    "t_values = [3, 6, 9]\n",
    "# Setup logarithmically space values\n",
    "pmax_values = np.linspace(*pmax_range, num=n_pmax)\n",
    "ds_values = np.linspace(*ds_range, num=n_ds)\n",
    "# pmax_values = np.logspace(*np.log10(pmax_range), num=n_pmax, endpoint=False)\n",
    "# ds_values = np.logspace(*np.log10(ds_range), num=n_ds, endpoint=False).round()\n",
    "# ds_values = np.logspace(np.log10(30), np.log10(1000), 4, endpoint=False).round()\n",
    "\n",
    "mecha_data = make_p_data(pmax_values=pmax_values, t=t_values,\n",
    "                     d_s=ds_values, n_max=n_max, dt=dt)"
   ]
  },
  {
   "cell_type": "code",
   "execution_count": 2,
   "metadata": {},
   "outputs": [
    {
     "name": "stderr",
     "output_type": "stream",
     "text": [
      "/home/ron/.conda/envs/temporal_coding/lib/python3.6/importlib/_bootstrap.py:219: RuntimeWarning: numpy.dtype size changed, may indicate binary incompatibility. Expected 96, got 88\n",
      "  return f(*args, **kwds)\n"
     ]
    },
    {
     "data": {
      "text/html": [
       "<script type=\"text/javascript\">window.PlotlyConfig = {MathJaxConfig: 'local'};</script><script type=\"text/javascript\">if (window.MathJax) {MathJax.Hub.Config({SVG: {font: \"STIX-Web\"}});}</script><script>requirejs.config({paths: { 'plotly': ['https://cdn.plot.ly/plotly-latest.min']},});if(!window._Plotly) {require(['plotly'],function(plotly) {window._Plotly=plotly;});}</script>"
      ],
      "text/vnd.plotly.v1+html": [
       "<script type=\"text/javascript\">window.PlotlyConfig = {MathJaxConfig: 'local'};</script><script type=\"text/javascript\">if (window.MathJax) {MathJax.Hub.Config({SVG: {font: \"STIX-Web\"}});}</script><script>requirejs.config({paths: { 'plotly': ['https://cdn.plot.ly/plotly-latest.min']},});if(!window._Plotly) {require(['plotly'],function(plotly) {window._Plotly=plotly;});}</script>"
      ]
     },
     "metadata": {},
     "output_type": "display_data"
    },
    {
     "data": {
      "application/vnd.plotly.v1+json": {
       "data": [
        {
         "type": "scatter",
         "uid": "09f73364-edde-44ae-81e9-cfe0dfd6fc27",
         "x": [
          1,
          2,
          3
         ],
         "y": [
          3,
          1,
          6
         ]
        }
       ],
       "layout": {}
      },
      "text/html": [
       "<div id=\"73f59654-c270-4347-a73d-09e995c3b4ae\" style=\"height: 525px; width: 100%;\" class=\"plotly-graph-div\"></div><script type=\"text/javascript\">require([\"plotly\"], function(Plotly) { window.PLOTLYENV=window.PLOTLYENV || {};window.PLOTLYENV.BASE_URL=\"https://plot.ly\";Plotly.newPlot(\"73f59654-c270-4347-a73d-09e995c3b4ae\", [{\"x\": [1, 2, 3], \"y\": [3, 1, 6], \"type\": \"scatter\", \"uid\": \"3cddff65-27f5-4855-87e0-2d2b810ba800\"}], {}, {\"showLink\": true, \"linkText\": \"Export to plot.ly\"})});</script><script type=\"text/javascript\">window.addEventListener(\"resize\", function(){Plotly.Plots.resize(document.getElementById(\"73f59654-c270-4347-a73d-09e995c3b4ae\"));});</script>"
      ],
      "text/vnd.plotly.v1+html": [
       "<div id=\"73f59654-c270-4347-a73d-09e995c3b4ae\" style=\"height: 525px; width: 100%;\" class=\"plotly-graph-div\"></div><script type=\"text/javascript\">require([\"plotly\"], function(Plotly) { window.PLOTLYENV=window.PLOTLYENV || {};window.PLOTLYENV.BASE_URL=\"https://plot.ly\";Plotly.newPlot(\"73f59654-c270-4347-a73d-09e995c3b4ae\", [{\"x\": [1, 2, 3], \"y\": [3, 1, 6], \"type\": \"scatter\", \"uid\": \"3cddff65-27f5-4855-87e0-2d2b810ba800\"}], {}, {\"showLink\": true, \"linkText\": \"Export to plot.ly\"})});</script><script type=\"text/javascript\">window.addEventListener(\"resize\", function(){Plotly.Plots.resize(document.getElementById(\"73f59654-c270-4347-a73d-09e995c3b4ae\"));});</script>"
      ]
     },
     "metadata": {},
     "output_type": "display_data"
    }
   ],
   "source": [
    "import plotly.graph_objs as go\n",
    "from plotly.offline import init_notebook_mode, iplot\n",
    "init_notebook_mode(connected=True)\n",
    "iplot([{\"x\": [1, 2, 3], \"y\": [3, 1, 6]}])"
   ]
  },
  {
   "cell_type": "code",
   "execution_count": null,
   "metadata": {},
   "outputs": [],
   "source": []
  }
 ],
 "metadata": {
  "kernelspec": {
   "display_name": "Python 3",
   "language": "python",
   "name": "python3"
  },
  "language_info": {
   "codemirror_mode": {
    "name": "ipython",
    "version": 3
   },
   "file_extension": ".py",
   "mimetype": "text/x-python",
   "name": "python",
   "nbconvert_exporter": "python",
   "pygments_lexer": "ipython3",
   "version": "3.6.6"
  }
 },
 "nbformat": 4,
 "nbformat_minor": 2
}
