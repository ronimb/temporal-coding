{
 "cells": [
  {
   "cell_type": "code",
   "execution_count": 2,
   "metadata": {},
   "outputs": [],
   "source": [
    "import numpy as np\n",
    "import matplotlib.pyplot as plt"
   ]
  },
  {
   "cell_type": "markdown",
   "metadata": {},
   "source": [
    "In [Synaptic theory of working memory, Mongillo et al. 2008](http://science.sciencemag.org/content/319/5869/1543),\n",
    "a two parameter model for vesicle release and recovery is detailed.  \n",
    "These two parameters are:  \n",
    "$x$ : The fraction of vesicles available for release (from the maximum RRP)  \n",
    "$u$ : The fraction of vesicles in $x$ that are released in response to a spike - This models the presynaptic intracellular states affecting release probabilites  \n",
    "\n",
    "\n",
    "The behaviour of each of these is governed by the following differential equations:\n",
    "$$\n",
    "{dx\\over dt} = {{1-x} \\over \\tau_D} - u x \\delta(t-t_{sp})\\\\\n",
    "{du\\over dt} = {{U-u}\\over \\tau_f} + U(1-u)(\\delta(t-t_{st})\n",
    "$$\n",
    "where $U$ is some baseline value of $u$ towards which it grows or decays.\n",
    "$tau_D$ and $tau_f$ are decay constants for $x$ and $u$ respectively, with $tau_f >> tau_D$"
   ]
  },
  {
   "cell_type": "markdown",
   "metadata": {},
   "source": [
    "To determine a mean uniform recovery rate for vesicles based on their data,  \n",
    "We are interested only in what happens to $x$.  \n",
    "We use their equation for $x$ to determine how long it will take the pool to replenish to 99% of its contents,  \n",
    "and then divide our maximal pool size (20) by that time to arrive at the time it should take for a single vesicle  \n",
    "to recover according to their model"
   ]
  },
  {
   "cell_type": "code",
   "execution_count": 39,
   "metadata": {},
   "outputs": [
    {
     "name": "stdout",
     "output_type": "stream",
     "text": [
      "Reached 99% recovery at t=920.0ms\n",
      "With 20 vesicles, this translates to one every 46.0 seconds\n"
     ]
    }
   ],
   "source": [
    "from scipy.integrate import odeint\n",
    "# Modeling only the increasing part of dx / dt\n",
    "def simple_growth(val, time, tau):\n",
    "    return (1 - val) / tau\n",
    "\n",
    "number_of_vesicles = 20\n",
    "times = np.linspace(0, 2, 201)  # Looking at a 2 second time range\n",
    "initial_value = 0\n",
    "tau_D = 0.2  # Value obtained from the article and supplements\n",
    "\n",
    "# solving for x\n",
    "x_t = odeint(simple_growth, initial_value, times, (tau_D, ))\n",
    "\n",
    "# finding first time instant when recovery is complete (99%)\n",
    "recovery_99_ms = times[np.isclose(x_t[:, 0], 0.99, atol=1e-4)][0] * 1000\n",
    "\n",
    "print(f'Reached 99% recovery at t={recovery_99_ms}ms')\n",
    "single_vesicle_recovery_time = recovery_99_ms / number_of_vesicles\n",
    "print(f'With {number_of_vesicles} vesicles, this translates to one every {single_vesicle_recovery_time} seconds')"
   ]
  },
  {
   "cell_type": "markdown",
   "metadata": {},
   "source": [
    "Now we turn to implementing a replenishment model of our own,  \n",
    "for our model, we will replace $x$ with $n$ denoting the number of vesicles such that:\n",
    "$$\n",
    "{dn\\over dt} = {{1\\over \\tau_n} \\times (1-\\delta(n_{(t)}-n_{max}))} - n_{released}\n",
    "$$\n",
    "where $tau_n = 46$ and $n_{max}$ denotes the full pool capacity,  \n",
    "\n",
    "\n",
    "*note that this expression results in continuous values of n,  \n",
    "for downstream purposes (such as vesicle release limites) this will be discretized*"
   ]
  },
  {
   "cell_type": "markdown",
   "metadata": {},
   "source": [
    "Lets generate some test data and test the behaviour of this function"
   ]
  },
  {
   "cell_type": "code",
   "execution_count": 130,
   "metadata": {},
   "outputs": [
    {
     "data": {
      "image/png": "[encoded data removed]",
      "text/plain": [
       "<matplotlib.figure.Figure at 0x7f9f91b02a90>"
      ]
     },
     "metadata": {
      "needs_background": "light"
     },
     "output_type": "display_data"
    }
   ],
   "source": [
    "stimulus_duration = 500  # ms\n",
    "dt_ms = 0.01\n",
    "\n",
    "num_released = 50\n",
    "max_pool_size = 20\n",
    "tau_n = 46\n",
    "starting_pool_size = [0, 10, 20]\n",
    "\n",
    "random_seed = 15\n",
    "np.random.seed(random_seed)\n",
    "\n",
    "times = np.arange(0 + dt_ms, stimulus_duration + dt_ms, dt_ms)\n",
    "random_release_times = np.sort(np.random.choice(times, size=num_released, replace=False))\n",
    "\n",
    "n = {pool_size: np.zeros_like(times) for pool_size in starting_pool_size}\n",
    "fig = plt.figure(figsize=(18, 6))\n",
    "grid_shape = (5, 1)\n",
    "ax_n = plt.subplot2grid(shape=grid_shape, loc=(0, 0), rowspan=4, fig=fig)\n",
    "for key in n:\n",
    "    n[key][0] = key\n",
    "    for i, t in enumerate(times[:-1]):\n",
    "        replenished = (1 / tau_n) * dt_ms * (1 - np.isclose(n[key][i], max_pool_size))\n",
    "        released = int(t in random_release_times) if int(n[key][i]) > 0 else 0\n",
    "        dn = replenished - released\n",
    "        n[key][i+1] = n[key][i] + dn\n",
    "    ax_n.plot(times, n[key].round(5).astype(int), label=key)\n",
    "ax_n.set_title('Discretized vesicle regeneration')\n",
    "ax_n.set_ylabel('n - number of vesicless')\n",
    "ax_n.set_xticks([])\n",
    "ax_r = plt.subplot2grid(shape=grid_shape, loc=(4, 0), rowspan=1, fig=fig)\n",
    "ax_r.scatter(random_release_times, [0] * num_released, marker='.')\n",
    "ax_r.set_xlim(ax_n.get_xlim())\n",
    "ax_r.set_yticks([])\n",
    "ax_r.set_xlabel('Time');"
   ]
  },
  {
   "cell_type": "code",
   "execution_count": 81,
   "metadata": {},
   "outputs": [
    {
     "data": {
      "text/plain": [
       "{0: array([ 0.        ,  0.02173913,  0.04347826, ..., 20.        ,\n",
       "        20.        , 20.        ]),\n",
       " 10: array([10.        , 10.02173913, 10.04347826, ..., 20.        ,\n",
       "        20.        , 20.        ]),\n",
       " 20: array([20., 20., 20., ..., 20., 20., 20.])}"
      ]
     },
     "execution_count": 81,
     "metadata": {},
     "output_type": "execute_result"
    }
   ],
   "source": [
    "n"
   ]
  },
  {
   "cell_type": "code",
   "execution_count": 79,
   "metadata": {},
   "outputs": [
    {
     "data": {
      "text/plain": [
       "0"
      ]
     },
     "execution_count": 79,
     "metadata": {},
     "output_type": "execute_result"
    }
   ],
   "source": [
    "released"
   ]
  },
  {
   "cell_type": "code",
   "execution_count": null,
   "metadata": {},
   "outputs": [],
   "source": []
  }
 ],
 "metadata": {
  "kernelspec": {
   "display_name": "Python 3",
   "language": "python",
   "name": "python3"
  },
  "language_info": {
   "codemirror_mode": {
    "name": "ipython",
    "version": 3
   },
   "file_extension": ".py",
   "mimetype": "text/x-python",
   "name": "python",
   "nbconvert_exporter": "python",
   "pygments_lexer": "ipython3",
   "version": "3.6.6"
  }
 },
 "nbformat": 4,
 "nbformat_minor": 2
}
